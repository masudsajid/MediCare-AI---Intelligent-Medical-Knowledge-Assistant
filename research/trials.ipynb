{
 "cells": [
  {
   "cell_type": "code",
   "execution_count": null,
   "id": "0e4e41aa",
   "metadata": {},
   "outputs": [
    {
     "data": {
      "text/plain": [
       "True"
      ]
     },
     "execution_count": 43,
     "metadata": {},
     "output_type": "execute_result"
    }
   ],
   "source": [
    "from langchain_huggingface import HuggingFaceEmbeddings\n",
    "from langchain_google_genai import GoogleGenerativeAIEmbeddings\n",
    "from langchain_groq import ChatGroq\n",
    "from dotenv import load_dotenv\n",
    "from langchain_text_splitters import RecursiveCharacterTextSplitter\n",
    "from langchain_community.document_loaders import PyPDFLoader\n",
    "from langchain_core.prompts import ChatPromptTemplate\n",
    "from langchain.chains.combine_documents import create_stuff_documents_chain\n",
    "from langchain.chains.retrieval import create_retrieval_chain\n",
    "from pinecone import Pinecone,ServerlessSpec\n",
    "from langchain_pinecone import PineconeVectorStore\n",
    "import os\n",
    "import cassio\n",
    "\n",
    "load_dotenv()\n"
   ]
  },
  {
   "cell_type": "code",
   "execution_count": 35,
   "id": "1a1cb707",
   "metadata": {},
   "outputs": [],
   "source": [
    "file_path = r\"C:\\Users\\iamda\\OneDrive\\Desktop\\Gen ai\\LLMops-Project\\data\\Medical_book.pdf\"\n",
    "\n",
    "def loader_function(file_path):\n",
    "    pdf = PyPDFLoader(file_path=file_path)\n",
    "    loader = pdf.load()\n",
    "    return loader\n"
   ]
  },
  {
   "cell_type": "code",
   "execution_count": 36,
   "id": "645771db",
   "metadata": {},
   "outputs": [],
   "source": [
    "loader = loader_function(file_path)\n",
    "\n",
    "def recursive_function(loader):\n",
    "    spliter = RecursiveCharacterTextSplitter(chunk_size=1000,chunk_overlap=100)\n",
    "    docs = spliter.split_documents(loader)\n",
    "    return docs\n"
   ]
  },
  {
   "cell_type": "code",
   "execution_count": 37,
   "id": "ef975d50",
   "metadata": {},
   "outputs": [],
   "source": [
    "docs = recursive_function(loader)"
   ]
  },
  {
   "cell_type": "code",
   "execution_count": 38,
   "id": "c66a1e4d",
   "metadata": {},
   "outputs": [
    {
     "data": {
      "text/plain": [
       "3156"
      ]
     },
     "execution_count": 38,
     "metadata": {},
     "output_type": "execute_result"
    }
   ],
   "source": [
    "len(docs)"
   ]
  },
  {
   "cell_type": "code",
   "execution_count": 39,
   "id": "8bdee0f5",
   "metadata": {},
   "outputs": [],
   "source": [
    "def embedding_function():\n",
    "    hf_embedding = HuggingFaceEmbeddings(model=\"all-MiniLM-L6-v2\")\n",
    "    return hf_embedding\n",
    "\n",
    "hf_embedding = embedding_function()"
   ]
  },
  {
   "cell_type": "code",
   "execution_count": 57,
   "id": "058cc712",
   "metadata": {},
   "outputs": [],
   "source": [
    "import os\n",
    "\n",
    "token \n",
    "End_point "
   ]
  },
  {
   "cell_type": "code",
   "execution_count": 45,
   "id": "c81a5407",
   "metadata": {},
   "outputs": [],
   "source": [
    "cassio.init(\n",
    "    token=token,\n",
    "    database_id=End_point\n",
    ")"
   ]
  },
  {
   "cell_type": "code",
   "execution_count": 48,
   "id": "38e6be87",
   "metadata": {},
   "outputs": [
    {
     "data": {
      "text/plain": [
       "VectorStoreIndexWrapper(vectorstore=<langchain_community.vectorstores.cassandra.Cassandra object at 0x0000018A37593F70>)"
      ]
     },
     "execution_count": 48,
     "metadata": {},
     "output_type": "execute_result"
    }
   ],
   "source": [
    "from langchain.vectorstores.cassandra import Cassandra\n",
    "\n",
    "vectore_store_db = Cassandra(embedding=hf_embedding,\n",
    "          session=None,\n",
    "          keyspace=None,\n",
    "          table_name=\"medical_rag\"\n",
    "          )\n",
    "\n",
    "from langchain.indexes.vectorstore import VectorStoreIndexWrapper\n",
    "\n",
    "vectore_store_db.add_documents(docs)\n",
    "\n",
    "vectore_store_index = VectorStoreIndexWrapper(vectorstore=vectore_store_db)\n",
    "vectore_store_index"
   ]
  },
  {
   "cell_type": "code",
   "execution_count": 49,
   "id": "94e03eed",
   "metadata": {},
   "outputs": [],
   "source": [
    "retriever = vectore_store_db.as_retriever()\n"
   ]
  },
  {
   "cell_type": "code",
   "execution_count": 50,
   "id": "21f7727b",
   "metadata": {},
   "outputs": [
    {
     "data": {
      "text/plain": [
       "[Document(id='bdbfcfff75344d499cc7e38a4dbbda8b', metadata={'creationdate': '2004-12-18T17:00:02-05:00', 'creator': 'PyPDF', 'moddate': '2004-12-18T16:15:31-06:00', 'page': '60.0', 'page_label': '61', 'producer': 'PDFlib+PDI 5.0.0 (SunOS)', 'source': 'C:\\\\Users\\\\iamda\\\\OneDrive\\\\Desktop\\\\Gen ai\\\\LLMops-Project\\\\data\\\\Medical_book.pdf', 'text': 'occur. The bacterial infection causes a fever of 100-104°F\\n(38°–40°C). In addition, a general ill feeling, muscle\\naches, headache, chills, and loss of appetite may be felt.\\nDiagnosis\\nIf lymphangitis is suspected, the person should call\\nhis or her doctor immediately or go to an emergency\\nroom. Acute lymphangitis could be diagnosed by the\\nfamily doctor, infectious disease specialist, or an emer-\\ngency room doctor. The painful, red streaks just below\\nthe skin surface and the high fever are diagnostic of acute\\nlymphangitis. A sample of blood would be taken for cul-\\nture to determine whether the bacteria have entered the\\nbloodstream. A biopsy (removal of a piece of infected\\ntissue) sample may be taken for culture to identify which\\nKEY TERMS\\nBiopsy—The process which removes a sample of\\ndiseased or infected tissue for microscopic exami-\\nnation to aid in diagnosis.\\nLymphatic system—A component of the immune\\nsystem consisting of vessels and nodes. Waste', 'total_pages': '637.0'}, page_content='occur. The bacterial infection causes a fever of 100-104°F\\n(38°–40°C). In addition, a general ill feeling, muscle\\naches, headache, chills, and loss of appetite may be felt.\\nDiagnosis\\nIf lymphangitis is suspected, the person should call\\nhis or her doctor immediately or go to an emergency\\nroom. Acute lymphangitis could be diagnosed by the\\nfamily doctor, infectious disease specialist, or an emer-\\ngency room doctor. The painful, red streaks just below\\nthe skin surface and the high fever are diagnostic of acute\\nlymphangitis. A sample of blood would be taken for cul-\\nture to determine whether the bacteria have entered the\\nbloodstream. A biopsy (removal of a piece of infected\\ntissue) sample may be taken for culture to identify which\\nKEY TERMS\\nBiopsy—The process which removes a sample of\\ndiseased or infected tissue for microscopic exami-\\nnation to aid in diagnosis.\\nLymphatic system—A component of the immune\\nsystem consisting of vessels and nodes. Waste'),\n",
       " Document(id='5a6a599657d84cc19ccfaa96cac468c9', metadata={'creationdate': '2004-12-18T17:00:02-05:00', 'creator': 'PyPDF', 'moddate': '2004-12-18T16:15:31-06:00', 'page': '446.0', 'page_label': '447', 'producer': 'PDFlib+PDI 5.0.0 (SunOS)', 'source': 'C:\\\\Users\\\\iamda\\\\OneDrive\\\\Desktop\\\\Gen ai\\\\LLMops-Project\\\\data\\\\Medical_book.pdf', 'text': 'cle pain. Nausea, vomiting, headache , shaking chills,\\nblood in the urine, and depression can occur.\\nPersons who are over 40 years old, have had their\\nspleen removed (splenectomized), and/or have a serious\\ndisease ( cancer, AIDS, etc.) are at a greater risk for\\nsevere babesiosis. In severe cases of babesiosis, up to\\n85% of the blood cells can be infected. This causes a\\nserious, possibly fatal, blood deficiency.\\nDiagnosis\\nBabesiosis can be diagnosed by examining a blood\\nsample microscopically and detecting the presence of\\nBabesia microtiwithin the blood cells. The blood can also\\nbe checked for the presence of antibodies to the parasite.\\nTreatment\\nIn serious cases, babesiosis is treated with a combi-\\nnation of clindamycin (Cleocin) and quinine. Clin-\\ndamycin is given by injection and quinine is given orally\\nthree to four times a day for four to seven days. To\\nreduce the number of parasites in the blood, severely ill\\npatients have been treated with blood transfusions.\\nPrognosis', 'total_pages': '637.0'}, page_content='cle pain. Nausea, vomiting, headache , shaking chills,\\nblood in the urine, and depression can occur.\\nPersons who are over 40 years old, have had their\\nspleen removed (splenectomized), and/or have a serious\\ndisease ( cancer, AIDS, etc.) are at a greater risk for\\nsevere babesiosis. In severe cases of babesiosis, up to\\n85% of the blood cells can be infected. This causes a\\nserious, possibly fatal, blood deficiency.\\nDiagnosis\\nBabesiosis can be diagnosed by examining a blood\\nsample microscopically and detecting the presence of\\nBabesia microtiwithin the blood cells. The blood can also\\nbe checked for the presence of antibodies to the parasite.\\nTreatment\\nIn serious cases, babesiosis is treated with a combi-\\nnation of clindamycin (Cleocin) and quinine. Clin-\\ndamycin is given by injection and quinine is given orally\\nthree to four times a day for four to seven days. To\\nreduce the number of parasites in the blood, severely ill\\npatients have been treated with blood transfusions.\\nPrognosis'),\n",
       " Document(id='e1f8e197daa24b1b9f8d542f2251ef67', metadata={'creationdate': '2004-12-18T17:00:02-05:00', 'creator': 'PyPDF', 'moddate': '2004-12-18T16:15:31-06:00', 'page': '69.0', 'page_label': '70', 'producer': 'PDFlib+PDI 5.0.0 (SunOS)', 'source': 'C:\\\\Users\\\\iamda\\\\OneDrive\\\\Desktop\\\\Gen ai\\\\LLMops-Project\\\\data\\\\Medical_book.pdf', 'text': 'chronic or latent infection, a much smaller number of\\nviruses are released and healthy cells can multiply more\\nrapidly than they are destroyed. People who have this\\nkind of infection don’t seem to be sick. This is probably\\nwhy many adults have immunity to adenoviruses without\\nrealizing they have been infected.\\nChildhood infections\\nIn children, adenoviruses most often cause acute\\nupper respiratory infections with fever and runny nose.\\nAdenovirus types 1, 2, 3,5, and 6 are responsible for\\nmost of these infections. Occasionally more serious\\nlower respiratory diseases, such as pneumonia , may\\noccur.\\nAdenoviruses also cause acute pharyngoconjunctival\\nfever in children. This disease is most often caused by\\ntypes 3 and 7. Symptoms, which appear suddenly and\\nusually disappear in less than a week, include:\\n• inflammation of the lining of the eyelid (conjunctivitis)\\n•f e v e r\\n• sore throat (pharyngitis)\\n• runny nose\\n• inflammation of lymph glands in the neck (cervical\\nadenitis)', 'total_pages': '637.0'}, page_content='chronic or latent infection, a much smaller number of\\nviruses are released and healthy cells can multiply more\\nrapidly than they are destroyed. People who have this\\nkind of infection don’t seem to be sick. This is probably\\nwhy many adults have immunity to adenoviruses without\\nrealizing they have been infected.\\nChildhood infections\\nIn children, adenoviruses most often cause acute\\nupper respiratory infections with fever and runny nose.\\nAdenovirus types 1, 2, 3,5, and 6 are responsible for\\nmost of these infections. Occasionally more serious\\nlower respiratory diseases, such as pneumonia , may\\noccur.\\nAdenoviruses also cause acute pharyngoconjunctival\\nfever in children. This disease is most often caused by\\ntypes 3 and 7. Symptoms, which appear suddenly and\\nusually disappear in less than a week, include:\\n• inflammation of the lining of the eyelid (conjunctivitis)\\n•f e v e r\\n• sore throat (pharyngitis)\\n• runny nose\\n• inflammation of lymph glands in the neck (cervical\\nadenitis)'),\n",
       " Document(id='ada206e990ec49c989894656c81fc4cd', metadata={'creationdate': '2004-12-18T17:00:02-05:00', 'creator': 'PyPDF', 'moddate': '2004-12-18T16:15:31-06:00', 'page': '60.0', 'page_label': '61', 'producer': 'PDFlib+PDI 5.0.0 (SunOS)', 'source': 'C:\\\\Users\\\\iamda\\\\OneDrive\\\\Desktop\\\\Gen ai\\\\LLMops-Project\\\\data\\\\Medical_book.pdf', 'text': 'Spread of the infection into the bloodstream could be fatal.\\nPrevention\\nAlthough acute lymphangitis can occur in anyone, good\\nhygiene and general health may help to prevent infections.\\nGALE ENCYCLOPEDIA OF MEDICINE 2 47\\nAcute lymphangitis\\nGEM - 0001 to 0432 - A  10/22/03 1:41 PM  Page 47', 'total_pages': '637.0'}, page_content='Spread of the infection into the bloodstream could be fatal.\\nPrevention\\nAlthough acute lymphangitis can occur in anyone, good\\nhygiene and general health may help to prevent infections.\\nGALE ENCYCLOPEDIA OF MEDICINE 2 47\\nAcute lymphangitis\\nGEM - 0001 to 0432 - A  10/22/03 1:41 PM  Page 47')]"
      ]
     },
     "execution_count": 50,
     "metadata": {},
     "output_type": "execute_result"
    }
   ],
   "source": [
    "retriever.invoke(\"i am suffering the high fever so tell me how to overcome\")"
   ]
  },
  {
   "cell_type": "code",
   "execution_count": 51,
   "id": "22d8732a",
   "metadata": {},
   "outputs": [],
   "source": [
    "prompt = ChatPromptTemplate.from_template( \"\"\"\n",
    "\n",
    "    You are a helpfull ai assistant and your work to give the answer of user question \n",
    "    based on the context is provided: {context}.\n",
    "    Make sure question/answer is meet the context if question is not meet the context so\n",
    "    return Sorry i don't give the answer.\n",
    "    Question:{input} \n",
    "\n",
    "    \"\"\"\n",
    ")"
   ]
  },
  {
   "cell_type": "code",
   "execution_count": 52,
   "id": "0fb98f51",
   "metadata": {},
   "outputs": [
    {
     "data": {
      "text/plain": [
       "RunnableBinding(bound=RunnableAssign(mapper={\n",
       "  context: RunnableBinding(bound=RunnableLambda(lambda x: x['input'])\n",
       "           | VectorStoreRetriever(tags=['Cassandra', 'HuggingFaceEmbeddings'], vectorstore=<langchain_community.vectorstores.cassandra.Cassandra object at 0x0000018A37593F70>, search_kwargs={}), kwargs={}, config={'run_name': 'retrieve_documents'}, config_factories=[])\n",
       "})\n",
       "| RunnableAssign(mapper={\n",
       "    answer: RunnableBinding(bound=RunnableBinding(bound=RunnableAssign(mapper={\n",
       "              context: RunnableLambda(format_docs)\n",
       "            }), kwargs={}, config={'run_name': 'format_inputs'}, config_factories=[])\n",
       "            | ChatPromptTemplate(input_variables=['context', 'input'], input_types={}, partial_variables={}, messages=[HumanMessagePromptTemplate(prompt=PromptTemplate(input_variables=['context', 'input'], input_types={}, partial_variables={}, template=\"\\n\\n    You are a helpfull ai assistant and your work to give the answer of user question \\n    based on the context is provided: {context}.\\n    Make sure question/answer is meet the context if question is not meet the context so\\n    return Sorry i don't give the answer.\\n    Question:{input} \\n\\n    \"), additional_kwargs={})])\n",
       "            | ChatGroq(client=<groq.resources.chat.completions.Completions object at 0x0000018A3C36AD70>, async_client=<groq.resources.chat.completions.AsyncCompletions object at 0x0000018A3C36AFB0>, model_name='llama-3.1-8b-instant', model_kwargs={}, groq_api_key=SecretStr('**********'))\n",
       "            | StrOutputParser(), kwargs={}, config={'run_name': 'stuff_documents_chain'}, config_factories=[])\n",
       "  }), kwargs={}, config={'run_name': 'retrieval_chain'}, config_factories=[])"
      ]
     },
     "execution_count": 52,
     "metadata": {},
     "output_type": "execute_result"
    }
   ],
   "source": [
    "llm = ChatGroq(model=\"llama-3.1-8b-instant\")\n",
    "\n",
    "create_stuff = create_stuff_documents_chain(llm=llm,prompt=prompt)\n",
    "chain = create_retrieval_chain(retriever,create_stuff)\n",
    "\n",
    "chain"
   ]
  },
  {
   "cell_type": "code",
   "execution_count": 55,
   "id": "01995df0",
   "metadata": {},
   "outputs": [
    {
     "name": "stdout",
     "output_type": "stream",
     "text": [
      "Based on the context provided, it seems like you are looking for advice on how to overcome a high fever. \n",
      "\n",
      "According to the text, the bacterial infection (lymphangitis) causes a fever of 100-104°F (38°–40°C). To overcome a high fever, you can try the following:\n",
      "\n",
      "1. **Take medication**: Aspirin is recommended to relieve pain and reduce fever. The recommended dosage is one to two tablets every three to four hours, up to six times a day.\n",
      "2. **Stay hydrated**: Drink plenty of fluids to help your body regulate its temperature and replace lost fluids.\n",
      "3. **Rest**: Get plenty of rest to help your body fight off the infection.\n",
      "4. **Seek medical attention**: If you suspect you have lymphangitis, you should seek medical attention immediately.\n"
     ]
    }
   ],
   "source": [
    "response = chain.invoke({\"input\":\"i am suffering the high fever so tell me how to overcome\"})\n",
    "print(response[\"answer\"])"
   ]
  },
  {
   "cell_type": "code",
   "execution_count": null,
   "id": "ec950847",
   "metadata": {},
   "outputs": [],
   "source": []
  },
  {
   "cell_type": "code",
   "execution_count": null,
   "id": "b330e027",
   "metadata": {},
   "outputs": [],
   "source": []
  }
 ],
 "metadata": {
  "kernelspec": {
   "display_name": "env",
   "language": "python",
   "name": "python3"
  },
  "language_info": {
   "codemirror_mode": {
    "name": "ipython",
    "version": 3
   },
   "file_extension": ".py",
   "mimetype": "text/x-python",
   "name": "python",
   "nbconvert_exporter": "python",
   "pygments_lexer": "ipython3",
   "version": "3.10.17"
  }
 },
 "nbformat": 4,
 "nbformat_minor": 5
}
